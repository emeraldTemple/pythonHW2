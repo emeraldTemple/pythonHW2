{
 "cells": [
  {
   "cell_type": "code",
   "execution_count": null,
   "metadata": {},
   "outputs": [],
   "source": [
    "# Modules\n",
    "import os\n",
    "import csv\n",
    "import pandas as pd\n",
    "\n",
    "# Set path for file\n",
    "csvpath = os.path.join(\"Resources\", \"election_data.csv\")\n",
    "election_data = pd.read_csv(csvpath)\n",
    "from collections import Counter\n",
    "votes = 0\n",
    "candidate = Counter()\n",
    "for index, row in election_data.iterrows():\n",
    "    candidate[row[2]] += 1\n",
    "    votes += 1\n",
    "candidate\n",
    "for x in candidate:\n",
    "    print(f\"{x}: {100*candidate[x]/votes}% - {candidate[x]} Votes \")"
   ]
  }
 ],
 "metadata": {
  "kernelspec": {
   "display_name": "Python 3",
   "language": "python",
   "name": "python3"
  },
  "language_info": {
   "codemirror_mode": {
    "name": "ipython",
    "version": 3
   },
   "file_extension": ".py",
   "mimetype": "text/x-python",
   "name": "python",
   "nbconvert_exporter": "python",
   "pygments_lexer": "ipython3",
   "version": "3.7.3"
  }
 },
 "nbformat": 4,
 "nbformat_minor": 2
}
